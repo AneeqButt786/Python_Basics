{
 "cells": [
  {
   "cell_type": "markdown",
   "id": "44a02516",
   "metadata": {},
   "source": [
    "### Here is a mini project for your practice.\n",
    "\n",
    "### Convert fahreneit temprature into Celsius."
   ]
  },
  {
   "cell_type": "code",
   "execution_count": 1,
   "id": "4d0b8728",
   "metadata": {},
   "outputs": [
    {
     "name": "stdout",
     "output_type": "stream",
     "text": [
      "36.11111111111111\n"
     ]
    }
   ],
   "source": [
    "Fahrenheit = float(input(\"Enter the temperature in Fahrenheit: \"))  # You can change this value to any Fahrenheit temperature\n",
    "Celsius = (Fahrenheit - 32) / 1.8\n",
    "\n",
    "print(Celsius)"
   ]
  },
  {
   "cell_type": "markdown",
   "id": "023042fa",
   "metadata": {},
   "source": [
    "### Here is a mini project for your practice.\n",
    "\n",
    "### Convert Fahrenheit temprature into Celsius.\n"
   ]
  },
  {
   "cell_type": "code",
   "execution_count": 2,
   "id": "f00ddba3",
   "metadata": {},
   "outputs": [
    {
     "name": "stdout",
     "output_type": "stream",
     "text": [
      "Temperature in Fahrenheit: 98.60000000000001\n"
     ]
    }
   ],
   "source": [
    "celsius = float(input(\"Enter the temperature in Celsius: \"))  # You can change this value to any Celsius temperature\n",
    "fahrenheit = (celsius * 1.8) + 32\n",
    "print(f\"Temperature in Fahrenheit: {fahrenheit}\")\n"
   ]
  }
 ],
 "metadata": {
  "kernelspec": {
   "display_name": "base",
   "language": "python",
   "name": "python3"
  },
  "language_info": {
   "codemirror_mode": {
    "name": "ipython",
    "version": 3
   },
   "file_extension": ".py",
   "mimetype": "text/x-python",
   "name": "python",
   "nbconvert_exporter": "python",
   "pygments_lexer": "ipython3",
   "version": "3.12.7"
  }
 },
 "nbformat": 4,
 "nbformat_minor": 5
}
