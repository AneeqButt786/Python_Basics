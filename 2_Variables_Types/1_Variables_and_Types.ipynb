{
 "cells": [
  {
   "cell_type": "markdown",
   "id": "0ce6537a",
   "metadata": {},
   "source": [
    "# Variables and Types"
   ]
  },
  {
   "cell_type": "markdown",
   "id": "5f8b9599",
   "metadata": {},
   "source": [
    "### Python is completely object oriented, and not \"statically typed\". You do not need to declare \n",
    "### variables before using them, or declare their type. Every variable in Python is an object.\n",
    "\n",
    "### This tutorial will go over a few basic types of variables.\n",
    "\n"
   ]
  },
  {
   "cell_type": "markdown",
   "id": "86983768",
   "metadata": {},
   "source": [
    "## Numbers\n",
    "### Python supports two types of numbers - integers(whole numbers) and floating point numbers(decimals). (It also supports complex numbers, which will not be explained in this tutorial).\n",
    "\n",
    "### To define an integer, use the following syntax:"
   ]
  },
  {
   "cell_type": "code",
   "execution_count": 1,
   "id": "90716c21",
   "metadata": {},
   "outputs": [
    {
     "name": "stdout",
     "output_type": "stream",
     "text": [
      "7\n"
     ]
    }
   ],
   "source": [
    "myint = 7\n",
    "print(myint)"
   ]
  },
  {
   "cell_type": "markdown",
   "id": "9023e5db",
   "metadata": {},
   "source": [
    "### To define a floating point number, you may use one of the following notations:\n",
    "\n"
   ]
  },
  {
   "cell_type": "code",
   "execution_count": 5,
   "id": "009b29de",
   "metadata": {},
   "outputs": [
    {
     "name": "stdout",
     "output_type": "stream",
     "text": [
      "7.356\n",
      "12.0\n"
     ]
    }
   ],
   "source": [
    "myfloat = 7.356\n",
    "print(myfloat)\n",
    "myfloat = float(12)\n",
    "print(myfloat)"
   ]
  },
  {
   "cell_type": "markdown",
   "id": "a38f5907",
   "metadata": {},
   "source": [
    "## Strings\n",
    "\n",
    "### Strings are defined either with a single quote, double quotes and a triple quote.\n",
    "\n",
    "### The difference between the two is that using double quotes makes it easy to include apostrophes (whereas these would terminate the string if using single quotes)\n",
    "\n",
    "### Triple quotes is used to print data in a same order as you want without using multiple print() or \\n .\n",
    "\n",
    "\n",
    "\n"
   ]
  },
  {
   "cell_type": "code",
   "execution_count": 13,
   "id": "0c3e087d",
   "metadata": {},
   "outputs": [
    {
     "name": "stdout",
     "output_type": "stream",
     "text": [
      "hello\n",
      "hello\n",
      "\n",
      "    Hello\n",
      "\n",
      "        World!\n"
     ]
    }
   ],
   "source": [
    "mystring1 = 'hello'\n",
    "print(mystring1)\n",
    "mystring2 = \"hello\"\n",
    "print(mystring2)\n",
    "mystring3 = \"\"\"\n",
    "    Hello\n",
    "\n",
    "        World!\"\"\"\n",
    "print(mystring3)"
   ]
  },
  {
   "cell_type": "markdown",
   "id": "f203d5da",
   "metadata": {},
   "source": [
    "### Simple operators can be executed on numbers and strings:\n",
    "\n"
   ]
  },
  {
   "cell_type": "code",
   "execution_count": 15,
   "id": "e1ca20eb",
   "metadata": {},
   "outputs": [
    {
     "name": "stdout",
     "output_type": "stream",
     "text": [
      "3\n",
      "hello world\n",
      "hello world\n"
     ]
    }
   ],
   "source": [
    "one = 1\n",
    "two = 2\n",
    "three = one + two\n",
    "print(three)\n",
    "\n",
    "hello = \"hello\"\n",
    "world = \"world\"\n",
    "helloworld1 = hello + \" \" + world\n",
    "helloworld2 = f\"hello world\"\n",
    "print(helloworld1)\n",
    "print(helloworld2)"
   ]
  },
  {
   "cell_type": "markdown",
   "id": "77403694",
   "metadata": {},
   "source": [
    "## Exercise\n",
    "\n",
    "### The target of this exercise is to create a string, an integer, and a floating point number. The string should be named mystring and should contain the word \"hello\". The floating point number should be named myfloat and should contain the number 10.0, and the integer should be named myint and should contain the number 20.\n",
    "\n"
   ]
  },
  {
   "cell_type": "code",
   "execution_count": 17,
   "id": "440d2022",
   "metadata": {},
   "outputs": [],
   "source": [
    "# change this code\n",
    "mystring = None\n",
    "myfloat = None\n",
    "myint = None\n",
    "\n",
    "# testing code\n",
    "if mystring == \"hello\":\n",
    "    print(\"String: %s\" % mystring)\n",
    "if isinstance(myfloat, float) and myfloat == 10.0:\n",
    "    print(\"Float: %f\" % myfloat)\n",
    "if isinstance(myint, int) and myint == 20:\n",
    "    print(\"Integer: %d\" % myint)"
   ]
  }
 ],
 "metadata": {
  "kernelspec": {
   "display_name": "base",
   "language": "python",
   "name": "python3"
  },
  "language_info": {
   "codemirror_mode": {
    "name": "ipython",
    "version": 3
   },
   "file_extension": ".py",
   "mimetype": "text/x-python",
   "name": "python",
   "nbconvert_exporter": "python",
   "pygments_lexer": "ipython3",
   "version": "3.12.7"
  }
 },
 "nbformat": 4,
 "nbformat_minor": 5
}
