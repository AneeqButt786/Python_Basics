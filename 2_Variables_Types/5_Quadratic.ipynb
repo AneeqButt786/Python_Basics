{
 "cells": [
  {
   "cell_type": "markdown",
   "id": "f3d18073",
   "metadata": {},
   "source": [
    "### Here is a mini project for your practice.\n",
    "\n",
    "### Quadratic Formula is used to find the solutions (roots) of a quadratic equation.\n",
    "\n",
    "### A quadratic equation is any equation in the form: ax**2+bx+c=0"
   ]
  },
  {
   "cell_type": "code",
   "execution_count": 1,
   "id": "bfeed93b",
   "metadata": {},
   "outputs": [
    {
     "name": "stdout",
     "output_type": "stream",
     "text": [
      "(-0.8333333333333331+1.2801909579781012j)\n",
      "(-0.8333333333333335-1.2801909579781012j)\n"
     ]
    }
   ],
   "source": [
    "a = int(input(\"Enter a: \"))\n",
    "b = int(input(\"Enter b: \"))\n",
    "c = int(input(\"Enter c: \"))\n",
    "\n",
    "root1 = (-b + (b*b - 4*a*c)**0.5) / (2*a)\n",
    "root2 = (-b - (b*b - 4*a*c)**0.5) / (2*a)\n",
    "\n",
    "print(root1)\n",
    "print(root2)"
   ]
  }
 ],
 "metadata": {
  "kernelspec": {
   "display_name": "base",
   "language": "python",
   "name": "python3"
  },
  "language_info": {
   "codemirror_mode": {
    "name": "ipython",
    "version": 3
   },
   "file_extension": ".py",
   "mimetype": "text/x-python",
   "name": "python",
   "nbconvert_exporter": "python",
   "pygments_lexer": "ipython3",
   "version": "3.12.7"
  }
 },
 "nbformat": 4,
 "nbformat_minor": 5
}
