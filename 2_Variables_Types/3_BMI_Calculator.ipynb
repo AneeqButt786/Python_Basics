{
 "cells": [
  {
   "cell_type": "markdown",
   "id": "42bab230",
   "metadata": {},
   "source": [
    "BMI(Body Mass Index) Calculator to find whether you have a healthy body weight according to your height 🏋️‍♀️\n"
   ]
  },
  {
   "cell_type": "code",
   "execution_count": 1,
   "id": "171e014f",
   "metadata": {},
   "outputs": [
    {
     "name": "stdout",
     "output_type": "stream",
     "text": [
      "24.11907533764316\n"
     ]
    }
   ],
   "source": [
    "weight = float(input(\"Enter your weight in kilograms: \"))       # in kilograms\n",
    "height = float(input(\"Enter your height in meters: \"))       # in meters\n",
    "\n",
    "bmi = weight / (height**2)\n",
    "\n",
    "print(bmi)\n"
   ]
  }
 ],
 "metadata": {
  "kernelspec": {
   "display_name": "base",
   "language": "python",
   "name": "python3"
  },
  "language_info": {
   "codemirror_mode": {
    "name": "ipython",
    "version": 3
   },
   "file_extension": ".py",
   "mimetype": "text/x-python",
   "name": "python",
   "nbconvert_exporter": "python",
   "pygments_lexer": "ipython3",
   "version": "3.12.7"
  }
 },
 "nbformat": 4,
 "nbformat_minor": 5
}
