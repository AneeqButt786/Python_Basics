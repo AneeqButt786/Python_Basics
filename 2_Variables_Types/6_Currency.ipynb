{
 "cells": [
  {
   "cell_type": "markdown",
   "id": "ddf0cf0f",
   "metadata": {},
   "source": [
    "### Here is a mini project for your practice.\n",
    "\n",
    "### Currency Converter is used to find the currencies in USD Dollars ($)"
   ]
  },
  {
   "cell_type": "code",
   "execution_count": null,
   "id": "2aa9b8c2",
   "metadata": {},
   "outputs": [
    {
     "name": "stdout",
     "output_type": "stream",
     "text": [
      "79.935\n"
     ]
    }
   ],
   "source": [
    "pesos = int(input('What do you have left in pesos? '))\n",
    "soles = int(input('What do you have left in soles? '))\n",
    "reais = int(input('What do you have left in reais? '))\n",
    "\n",
    "pes_to_usd = pesos * 0.00025\n",
    "sol_to_usd = soles * 0.28\n",
    "rea_to_usd = reais * 0.21\n",
    "\n",
    "total = pes_to_usd + sol_to_usd + rea_to_usd\n",
    "\n",
    "print(total)"
   ]
  }
 ],
 "metadata": {
  "kernelspec": {
   "display_name": "base",
   "language": "python",
   "name": "python3"
  },
  "language_info": {
   "codemirror_mode": {
    "name": "ipython",
    "version": 3
   },
   "file_extension": ".py",
   "mimetype": "text/x-python",
   "name": "python",
   "nbconvert_exporter": "python",
   "pygments_lexer": "ipython3",
   "version": "3.12.7"
  }
 },
 "nbformat": 4,
 "nbformat_minor": 5
}
