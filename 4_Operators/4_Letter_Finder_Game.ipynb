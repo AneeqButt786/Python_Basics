{
 "cells": [
  {
   "cell_type": "markdown",
   "id": "084e20e0",
   "metadata": {},
   "source": [
    "### **Letter Finder Game**\n",
    "💡 *Use Case:* Searching for a character in a string is common in text editors, search tools, or data processing."
   ]
  },
  {
   "cell_type": "code",
   "execution_count": 7,
   "id": "65e002e5",
   "metadata": {},
   "outputs": [
    {
     "name": "stdout",
     "output_type": "stream",
     "text": [
      "Hello World!\n",
      "W\n",
      "First W is at position 6\n"
     ]
    }
   ],
   "source": [
    "word = input(\"Type a word: \")\n",
    "print(word)\n",
    "letter = input(\"Which letter should I find? \")\n",
    "print(letter)\n",
    "print(\"First\", letter, \"is at position\", word.index(letter))"
   ]
  }
 ],
 "metadata": {
  "kernelspec": {
   "display_name": "base",
   "language": "python",
   "name": "python3"
  },
  "language_info": {
   "codemirror_mode": {
    "name": "ipython",
    "version": 3
   },
   "file_extension": ".py",
   "mimetype": "text/x-python",
   "name": "python",
   "nbconvert_exporter": "python",
   "pygments_lexer": "ipython3",
   "version": "3.12.7"
  }
 },
 "nbformat": 4,
 "nbformat_minor": 5
}
