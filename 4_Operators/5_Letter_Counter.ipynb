{
 "cells": [
  {
   "cell_type": "markdown",
   "id": "807e235f",
   "metadata": {},
   "source": [
    "### **Letter Counter**\n",
    "💡 *Use Case:* Used in text analysis to count how often something appears—like words in a document or DNA bases."
   ]
  },
  {
   "cell_type": "code",
   "execution_count": 1,
   "id": "064282a5",
   "metadata": {},
   "outputs": [
    {
     "name": "stdout",
     "output_type": "stream",
     "text": [
      "💡 Use Case: Used in text analysis to count how often something appears—like words in a document or DNA bases.\n",
      "e\n",
      "The letter e appears 10 times.\n"
     ]
    }
   ],
   "source": [
    "sentence = input(\"Type a sentence: \")\n",
    "print(sentence)\n",
    "letter = input(\"Which letter should I count? \")\n",
    "print(letter)\n",
    "print(\"The letter\", letter, \"appears\", sentence.count(letter), \"times.\")\n"
   ]
  }
 ],
 "metadata": {
  "kernelspec": {
   "display_name": "base",
   "language": "python",
   "name": "python3"
  },
  "language_info": {
   "codemirror_mode": {
    "name": "ipython",
    "version": 3
   },
   "file_extension": ".py",
   "mimetype": "text/x-python",
   "name": "python",
   "nbconvert_exporter": "python",
   "pygments_lexer": "ipython3",
   "version": "3.12.7"
  }
 },
 "nbformat": 4,
 "nbformat_minor": 5
}
