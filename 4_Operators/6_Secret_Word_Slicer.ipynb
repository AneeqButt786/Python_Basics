{
 "cells": [
  {
   "cell_type": "markdown",
   "id": "8b573788",
   "metadata": {},
   "source": [
    "### **Secret Word Slicer**\n",
    "\n",
    "💡 *Use Case:* Slicing is used to extract specific parts of strings—like dates, usernames, or hashtags."
   ]
  },
  {
   "cell_type": "code",
   "execution_count": 3,
   "id": "c866c4e8",
   "metadata": {},
   "outputs": [
    {
     "name": "stdout",
     "output_type": "stream",
     "text": [
      "Secret Word Slicer\n",
      "2 to 6\n",
      "Secret slice is: cret\n"
     ]
    }
   ],
   "source": [
    "word = input(\"Type a secret word: \")\n",
    "print(word)\n",
    "start = int(input(\"Start from index: \"))\n",
    "end = int(input(\"End at index: \"))\n",
    "print(start,\"to\",end)\n",
    "print(\"Secret slice is:\", word[start:end])\n"
   ]
  }
 ],
 "metadata": {
  "kernelspec": {
   "display_name": "base",
   "language": "python",
   "name": "python3"
  },
  "language_info": {
   "codemirror_mode": {
    "name": "ipython",
    "version": 3
   },
   "file_extension": ".py",
   "mimetype": "text/x-python",
   "name": "python",
   "nbconvert_exporter": "python",
   "pygments_lexer": "ipython3",
   "version": "3.12.7"
  }
 },
 "nbformat": 4,
 "nbformat_minor": 5
}
