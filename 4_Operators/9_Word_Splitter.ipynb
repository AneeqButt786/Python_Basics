{
 "cells": [
  {
   "cell_type": "markdown",
   "id": "c549c3d2",
   "metadata": {},
   "source": [
    "### **Word Splitter**\n",
    "\n",
    "💡 *Use Case:* Splitting strings is used in chat apps, file processing, CSV parsing, and search engines."
   ]
  },
  {
   "cell_type": "code",
   "execution_count": 1,
   "id": "4e9177ff",
   "metadata": {},
   "outputs": [
    {
     "name": "stdout",
     "output_type": "stream",
     "text": [
      "Sentence: 💡 Use Case: Used in text analysis to count how often something appears—like words in a document or DNA bases.\n",
      "Here are your words one by one:\n",
      "- 💡\n",
      "- Use\n",
      "- Case:\n",
      "- Used\n",
      "- in\n",
      "- text\n",
      "- analysis\n",
      "- to\n",
      "- count\n",
      "- how\n",
      "- often\n",
      "- something\n",
      "- appears—like\n",
      "- words\n",
      "- in\n",
      "- a\n",
      "- document\n",
      "- or\n",
      "- DNA\n",
      "- bases.\n"
     ]
    }
   ],
   "source": [
    "sentence = input(\"Type a sentence: \")\n",
    "print(f\"Sentence: {sentence}\")\n",
    "words = sentence.split(\" \")\n",
    "print(\"Here are your words one by one:\")\n",
    "for word in words:\n",
    "    print(\"-\", word)\n"
   ]
  }
 ],
 "metadata": {
  "kernelspec": {
   "display_name": "base",
   "language": "python",
   "name": "python3"
  },
  "language_info": {
   "codemirror_mode": {
    "name": "ipython",
    "version": 3
   },
   "file_extension": ".py",
   "mimetype": "text/x-python",
   "name": "python",
   "nbconvert_exporter": "python",
   "pygments_lexer": "ipython3",
   "version": "3.12.7"
  }
 },
 "nbformat": 4,
 "nbformat_minor": 5
}
