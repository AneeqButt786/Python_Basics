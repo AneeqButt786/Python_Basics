{
 "cells": [
  {
   "cell_type": "markdown",
   "id": "7493cd64",
   "metadata": {},
   "source": [
    "### **Does It Start With...?**\n",
    "\n",
    "💡 *Use Case:* This is used to check if URLs, file names, or commands start or end with certain text."
   ]
  },
  {
   "cell_type": "code",
   "execution_count": 3,
   "id": "95141168",
   "metadata": {},
   "outputs": [
    {
     "name": "stdout",
     "output_type": "stream",
     "text": [
      "Starts with Does? True\n",
      "Ends with alphabet?? False\n"
     ]
    }
   ],
   "source": [
    "phrase = input(\"Type a sentence: \")\n",
    "start = input(\"Does it start with...? \")\n",
    "end = input(\"Does it end with...? \")\n",
    "\n",
    "print(f\"Starts with {start}?\", phrase.startswith(start))\n",
    "print(f\"Ends with {end}?\", phrase.endswith(end))\n"
   ]
  }
 ],
 "metadata": {
  "kernelspec": {
   "display_name": "base",
   "language": "python",
   "name": "python3"
  },
  "language_info": {
   "codemirror_mode": {
    "name": "ipython",
    "version": 3
   },
   "file_extension": ".py",
   "mimetype": "text/x-python",
   "name": "python",
   "nbconvert_exporter": "python",
   "pygments_lexer": "ipython3",
   "version": "3.12.7"
  }
 },
 "nbformat": 4,
 "nbformat_minor": 5
}
