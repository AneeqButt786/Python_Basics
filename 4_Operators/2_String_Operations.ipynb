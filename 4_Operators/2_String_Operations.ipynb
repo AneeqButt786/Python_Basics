{
 "cells": [
  {
   "cell_type": "markdown",
   "id": "3c0fb755",
   "metadata": {},
   "source": [
    "# 🧵 Basic String Operations\n",
    "\n",
    "Strings are text inside quotes:"
   ]
  },
  {
   "cell_type": "code",
   "execution_count": 4,
   "id": "8d6274aa",
   "metadata": {},
   "outputs": [],
   "source": [
    "astring = \"Hello world!\"\n",
    "astring2 = 'Hello world!'\n"
   ]
  },
  {
   "cell_type": "markdown",
   "id": "5ed1290e",
   "metadata": {},
   "source": [
    "### **1. Get Length**\n"
   ]
  },
  {
   "cell_type": "code",
   "execution_count": 12,
   "id": "74f78598",
   "metadata": {},
   "outputs": [
    {
     "name": "stdout",
     "output_type": "stream",
     "text": [
      "12\n"
     ]
    }
   ],
   "source": [
    "astring = \"Hello world!\"\n",
    "print(len(astring))"
   ]
  },
  {
   "cell_type": "markdown",
   "id": "2a5ef1e3",
   "metadata": {},
   "source": [
    "💡 Shows how many characters (including spaces and punctuation).\n",
    "\n",
    "**Output: 12**\n"
   ]
  },
  {
   "cell_type": "markdown",
   "id": "5f847a29",
   "metadata": {},
   "source": [
    "### **2. Find First Occurrence**"
   ]
  },
  {
   "cell_type": "code",
   "execution_count": 13,
   "id": "cddbaff9",
   "metadata": {},
   "outputs": [
    {
     "name": "stdout",
     "output_type": "stream",
     "text": [
      "4\n"
     ]
    }
   ],
   "source": [
    "astring = \"Hello world!\"\n",
    "print(astring.index(\"o\"))"
   ]
  },
  {
   "cell_type": "markdown",
   "id": "d73ce4c3",
   "metadata": {},
   "source": [
    "Finds where the first \"o\" is.\n",
    "\n",
    "Starts counting from 0, so \"o\" is at position 4, not 5."
   ]
  },
  {
   "cell_type": "markdown",
   "id": "2e7ab236",
   "metadata": {},
   "source": [
    "### **3. Count Letters**"
   ]
  },
  {
   "cell_type": "code",
   "execution_count": 14,
   "id": "e66cde7d",
   "metadata": {},
   "outputs": [
    {
     "name": "stdout",
     "output_type": "stream",
     "text": [
      "3\n"
     ]
    }
   ],
   "source": [
    "astring = \"Hello world!\"\n",
    "print(astring.count(\"l\"))"
   ]
  },
  {
   "cell_type": "markdown",
   "id": "983db4d5",
   "metadata": {},
   "source": [
    "Counts how many times \"l\" appears.\n",
    "\n",
    "**Output: 3** (that's lowercase L, not the number 1). "
   ]
  },
  {
   "cell_type": "markdown",
   "id": "5c5081ee",
   "metadata": {},
   "source": [
    "### **4. Simple Slicing**"
   ]
  },
  {
   "cell_type": "code",
   "execution_count": 15,
   "id": "58d6d932",
   "metadata": {},
   "outputs": [
    {
     "name": "stdout",
     "output_type": "stream",
     "text": [
      "lo w\n"
     ]
    }
   ],
   "source": [
    "astring = \"Hello world!\"\n",
    "print(astring[3:7])"
   ]
  },
  {
   "cell_type": "markdown",
   "id": "f38d63d8",
   "metadata": {},
   "source": [
    "Shows letters from index 3 to 6 (7 is not included).\n",
    "\n",
    "Python uses start-inclusive, end-exclusive slicing."
   ]
  },
  {
   "cell_type": "markdown",
   "id": "8ae6e933",
   "metadata": {},
   "source": [
    "### **5. Extended Slicing**"
   ]
  },
  {
   "cell_type": "code",
   "execution_count": 16,
   "id": "734a9090",
   "metadata": {},
   "outputs": [
    {
     "name": "stdout",
     "output_type": "stream",
     "text": [
      "l \n"
     ]
    }
   ],
   "source": [
    "astring = \"Hello world!\"\n",
    "print(astring[3:7:2])"
   ]
  },
  {
   "cell_type": "markdown",
   "id": "360deb6a",
   "metadata": {},
   "source": [
    "Same as above, but skips every second character — it shows index 3 and 5.\n",
    "\n",
    "This is an extended slice syntax. The general form is [start:stop:step].\n",
    "\n"
   ]
  },
  {
   "cell_type": "markdown",
   "id": "01359afe",
   "metadata": {},
   "source": [
    "### **6. Reverse a String**"
   ]
  },
  {
   "cell_type": "code",
   "execution_count": 17,
   "id": "a78cd880",
   "metadata": {},
   "outputs": [
    {
     "name": "stdout",
     "output_type": "stream",
     "text": [
      "!dlrow olleH\n"
     ]
    }
   ],
   "source": [
    "astring = \"Hello world!\"\n",
    "print(astring[::-1])"
   ]
  },
  {
   "cell_type": "markdown",
   "id": "d857c0b9",
   "metadata": {},
   "source": [
    "A cool trick to reverse text: step through the string backwards. \n"
   ]
  },
  {
   "cell_type": "markdown",
   "id": "87466fb8",
   "metadata": {},
   "source": [
    "### **7. Change Case**"
   ]
  },
  {
   "cell_type": "code",
   "execution_count": 18,
   "id": "e9ca4823",
   "metadata": {},
   "outputs": [
    {
     "name": "stdout",
     "output_type": "stream",
     "text": [
      "HELLO WORLD!\n",
      "hello world!\n"
     ]
    }
   ],
   "source": [
    "astring = \"Hello world!\"\n",
    "print(astring.upper())\n",
    "print(astring.lower())"
   ]
  },
  {
   "cell_type": "markdown",
   "id": "c358d086",
   "metadata": {},
   "source": [
    ".upper() makes all letters uppercase.\n",
    "\n",
    ".lower() makes them lowercase."
   ]
  },
  {
   "cell_type": "markdown",
   "id": "45e546e2",
   "metadata": {},
   "source": [
    "### **8. Check Start or End**"
   ]
  },
  {
   "cell_type": "code",
   "execution_count": 19,
   "id": "e9f971e0",
   "metadata": {},
   "outputs": [
    {
     "name": "stdout",
     "output_type": "stream",
     "text": [
      "True\n",
      "False\n"
     ]
    }
   ],
   "source": [
    "astring = \"Hello world!\"\n",
    "print(astring.startswith(\"Hello\"))\n",
    "print(astring.endswith(\"asdf\"))"
   ]
  },
  {
   "cell_type": "markdown",
   "id": "41530031",
   "metadata": {},
   "source": [
    "Tells if the string starts with or ends with the given text.\n",
    "\n",
    "**Returns True or False.**"
   ]
  },
  {
   "cell_type": "markdown",
   "id": "01abc8f0",
   "metadata": {},
   "source": [
    "### **9. Split a String**"
   ]
  },
  {
   "cell_type": "code",
   "execution_count": 22,
   "id": "50cdb5ca",
   "metadata": {},
   "outputs": [
    {
     "name": "stdout",
     "output_type": "stream",
     "text": [
      "['Hello', 'world!']\n"
     ]
    }
   ],
   "source": [
    "astring = \"Hello world!\"\n",
    "afewwords = astring.split(\" \")\n",
    "print(afewwords)"
   ]
  },
  {
   "cell_type": "markdown",
   "id": "67a1751b",
   "metadata": {},
   "source": [
    "Breaks the string into words where there’s a space.\n",
    "\n",
    "**Result: [\"Hello\", \"world!\"]**"
   ]
  },
  {
   "cell_type": "markdown",
   "id": "171f5df8",
   "metadata": {},
   "source": [
    "### **Exercise**"
   ]
  },
  {
   "cell_type": "markdown",
   "id": "048e5aa5",
   "metadata": {},
   "source": [
    "Try to fix the code to print out the correct information by changing the string."
   ]
  },
  {
   "cell_type": "code",
   "execution_count": null,
   "id": "300f09d5",
   "metadata": {},
   "outputs": [],
   "source": [
    "s = \"Hey there! what should this string be?\"\n",
    "\n",
    "# Length should be 20\n",
    "print(f\"Length of s = {len(s)}\")\n",
    "\n",
    "# First occurrence of \"a\" should be at index 8\n",
    "print(f\"The first occurrence of the letter a = {s.index('a')}\")\n",
    "\n",
    "# Number of a's should be 2\n",
    "print(f\"a occurs {s.count('a')} times\")\n",
    "\n",
    "# Slicing the string into bits\n",
    "print(f\"The first five characters are '{s[:5]}'\")         # Start to 5\n",
    "print(f\"The next five characters are '{s[5:10]}'\")        # 5 to 10\n",
    "print(f\"The thirteenth character is '{s[12]}'\")           # Just number 12\n",
    "print(f\"The characters with odd index are '{s[1::2]}'\")   # (0-based indexing)\n",
    "print(f\"The last five characters are '{s[-5:]}'\")         # 5th-from-last to end\n",
    "\n",
    "# Convert everything to uppercase\n",
    "print(f\"String in uppercase: {s.upper()}\")\n",
    "\n",
    "# Convert everything to lowercase\n",
    "print(f\"String in lowercase: {s.lower()}\")\n",
    "\n",
    "# Check how a string starts\n",
    "if s.startswith(\"Str\"):\n",
    "    print(\"String starts with 'Str'. Good!\")\n",
    "\n",
    "# Check how a string ends\n",
    "if s.endswith(\"ome!\"):\n",
    "    print(\"String ends with 'ome!'. Good!\")\n",
    "\n",
    "# Split the string into three separate strings,\n",
    "# each containing only a word\n",
    "print(f\"Split the words of the string: {s.split(' ')}\")\n"
   ]
  }
 ],
 "metadata": {
  "kernelspec": {
   "display_name": "base",
   "language": "python",
   "name": "python3"
  },
  "language_info": {
   "codemirror_mode": {
    "name": "ipython",
    "version": 3
   },
   "file_extension": ".py",
   "mimetype": "text/x-python",
   "name": "python",
   "nbconvert_exporter": "python",
   "pygments_lexer": "ipython3",
   "version": "3.12.7"
  }
 },
 "nbformat": 4,
 "nbformat_minor": 5
}
