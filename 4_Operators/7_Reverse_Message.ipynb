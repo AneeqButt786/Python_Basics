{
 "cells": [
  {
   "cell_type": "markdown",
   "id": "760e1d9e",
   "metadata": {},
   "source": [
    "### **Reverse the Message**\n",
    "\n",
    "💡 *Use Case:* Reversing strings is used in coding challenges, palindrome checks, or encryption."
   ]
  },
  {
   "cell_type": "code",
   "execution_count": 1,
   "id": "95a24ec4",
   "metadata": {},
   "outputs": [
    {
     "name": "stdout",
     "output_type": "stream",
     "text": [
      "Message:  Reverse the Message\n",
      "Backwards it says: egasseM eht esreveR\n"
     ]
    }
   ],
   "source": [
    "message = input(\"Type your message: \")\n",
    "print(\"Message: \",message)\n",
    "print(\"Backwards it says:\", message[::-1])\n"
   ]
  }
 ],
 "metadata": {
  "kernelspec": {
   "display_name": "base",
   "language": "python",
   "name": "python3"
  },
  "language_info": {
   "codemirror_mode": {
    "name": "ipython",
    "version": 3
   },
   "file_extension": ".py",
   "mimetype": "text/x-python",
   "name": "python",
   "nbconvert_exporter": "python",
   "pygments_lexer": "ipython3",
   "version": "3.12.7"
  }
 },
 "nbformat": 4,
 "nbformat_minor": 5
}
