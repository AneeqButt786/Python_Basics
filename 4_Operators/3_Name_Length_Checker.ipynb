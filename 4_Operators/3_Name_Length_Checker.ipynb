{
 "cells": [
  {
   "cell_type": "markdown",
   "id": "4aa44cd3",
   "metadata": {},
   "source": [
    "### **Name Length Checker**\n",
    "💡 *Use Case:* Knowing the length of a name or username can help with form validation or display formatting.\n"
   ]
  },
  {
   "cell_type": "code",
   "execution_count": null,
   "id": "97fbdfef",
   "metadata": {},
   "outputs": [
    {
     "name": "stdout",
     "output_type": "stream",
     "text": [
      "Your name Muhammad Aneeq Butt has 19 letters!\n"
     ]
    }
   ],
   "source": [
    "name = input(\"What's your name? \")\n",
    "print(\"Your name\",name,\"has\", len(name), \"letters!\")"
   ]
  }
 ],
 "metadata": {
  "kernelspec": {
   "display_name": "base",
   "language": "python",
   "name": "python3"
  },
  "language_info": {
   "codemirror_mode": {
    "name": "ipython",
    "version": 3
   },
   "file_extension": ".py",
   "mimetype": "text/x-python",
   "name": "python",
   "nbconvert_exporter": "python",
   "pygments_lexer": "ipython3",
   "version": "3.12.7"
  }
 },
 "nbformat": 4,
 "nbformat_minor": 5
}
