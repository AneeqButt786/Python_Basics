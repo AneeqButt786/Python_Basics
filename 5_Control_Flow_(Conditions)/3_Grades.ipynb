{
 "cells": [
  {
   "cell_type": "markdown",
   "id": "0e03a332",
   "metadata": {},
   "source": [
    "### **Grades**\n",
    "\n",
    "💡 *Use Case:* Helps decide if a student passes or fails—like what you might use to grade assignments.\n"
   ]
  },
  {
   "cell_type": "code",
   "execution_count": 1,
   "id": "4e532f4e",
   "metadata": {},
   "outputs": [
    {
     "name": "stdout",
     "output_type": "stream",
     "text": [
      "75\n",
      "You passed.\n"
     ]
    }
   ],
   "source": [
    "grade = int(input(\"Enter you grades: \"))\n",
    "print(grade)\n",
    "if grade >= 55:\n",
    "  print('You passed.')\n",
    "else:\n",
    "  print('You failed.')"
   ]
  }
 ],
 "metadata": {
  "kernelspec": {
   "display_name": "base",
   "language": "python",
   "name": "python3"
  },
  "language_info": {
   "codemirror_mode": {
    "name": "ipython",
    "version": 3
   },
   "file_extension": ".py",
   "mimetype": "text/x-python",
   "name": "python",
   "nbconvert_exporter": "python",
   "pygments_lexer": "ipython3",
   "version": "3.12.7"
  }
 },
 "nbformat": 4,
 "nbformat_minor": 5
}
