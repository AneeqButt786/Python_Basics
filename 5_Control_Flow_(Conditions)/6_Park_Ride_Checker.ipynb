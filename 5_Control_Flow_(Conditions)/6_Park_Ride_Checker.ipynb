{
 "cells": [
  {
   "cell_type": "markdown",
   "id": "fd578112",
   "metadata": {},
   "source": [
    "### **🎢 Amusement Park Ride Checkers**\n",
    "\n",
    "💡 *Use Case:* 1. Ride Access Checker with Detailed Conditions"
   ]
  },
  {
   "cell_type": "code",
   "execution_count": 1,
   "id": "92533faf",
   "metadata": {},
   "outputs": [
    {
     "name": "stdout",
     "output_type": "stream",
     "text": [
      "Enjoy the ride!\n"
     ]
    }
   ],
   "source": [
    "height = int(input('What is your height (cm)? '))\n",
    "credits = int(input('How many credits do you have? '))\n",
    "\n",
    "if height >= 137 and credits >= 10:\n",
    "  print(\"Enjoy the ride!\")\n",
    "elif height < 137 and credits >= 10:\n",
    "  print(\"You are not tall enough to ride.\")\n",
    "elif credits < 10 and height >= 137:\n",
    "  print(\"You don't have enough credits to ride.\")\n",
    "else:\n",
    "  print(\"You are not tall enough for this ride, nor do you have enough credits.\")"
   ]
  },
  {
   "cell_type": "markdown",
   "id": "977191cc",
   "metadata": {},
   "source": [
    "💡 *Use Case:* Improves the ride checker by adding a status check for whether the ride is open.\n"
   ]
  },
  {
   "cell_type": "code",
   "execution_count": 3,
   "id": "d89a7a77",
   "metadata": {},
   "outputs": [
    {
     "name": "stdout",
     "output_type": "stream",
     "text": [
      "You are either not tall enough to ride or you don't have enough credits.\n"
     ]
    }
   ],
   "source": [
    "ride_is_open = True\n",
    "\n",
    "height = int(input('What is your height (cm)? '))\n",
    "credits = int(input('How many credits do you have? '))\n",
    "\n",
    "tall_enough = height >= 137\n",
    "enough_credits = credits >= 10\n",
    "\n",
    "if ride_is_open and tall_enough and enough_credits:\n",
    "  print(\"Enjoy the ride!\")\n",
    "elif not tall_enough or not enough_credits:\n",
    "  print(\"You are either not tall enough to ride or you don't have enough credits.\")\n",
    "else:\n",
    "  print(\"Sorry! The ride is currently closed!\")"
   ]
  }
 ],
 "metadata": {
  "kernelspec": {
   "display_name": "base",
   "language": "python",
   "name": "python3"
  },
  "language_info": {
   "codemirror_mode": {
    "name": "ipython",
    "version": 3
   },
   "file_extension": ".py",
   "mimetype": "text/x-python",
   "name": "python",
   "nbconvert_exporter": "python",
   "pygments_lexer": "ipython3",
   "version": "3.12.7"
  }
 },
 "nbformat": 4,
 "nbformat_minor": 5
}
