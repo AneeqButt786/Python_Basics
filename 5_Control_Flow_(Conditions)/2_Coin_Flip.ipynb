{
 "cells": [
  {
   "cell_type": "markdown",
   "id": "5374a13a",
   "metadata": {},
   "source": [
    "### **Coin Flip**\n",
    "\n",
    "💡 *Use Case:* Simulates flipping a coin—great for teaching randomness like picking “heads or tails” in a simple game.\n"
   ]
  },
  {
   "cell_type": "code",
   "execution_count": 1,
   "id": "da79f2ad",
   "metadata": {},
   "outputs": [
    {
     "name": "stdout",
     "output_type": "stream",
     "text": [
      "Heads\n"
     ]
    }
   ],
   "source": [
    "import random\n",
    "\n",
    "num = random.randint(0, 1)\n",
    "             \n",
    "if num > 0.5: \n",
    "  print('Heads')\n",
    "else:\n",
    "  print('Tails')  "
   ]
  }
 ],
 "metadata": {
  "kernelspec": {
   "display_name": "base",
   "language": "python",
   "name": "python3"
  },
  "language_info": {
   "codemirror_mode": {
    "name": "ipython",
    "version": 3
   },
   "file_extension": ".py",
   "mimetype": "text/x-python",
   "name": "python",
   "nbconvert_exporter": "python",
   "pygments_lexer": "ipython3",
   "version": "3.12.7"
  }
 },
 "nbformat": 4,
 "nbformat_minor": 5
}
