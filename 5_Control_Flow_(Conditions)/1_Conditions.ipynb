{
 "cells": [
  {
   "cell_type": "markdown",
   "id": "4e896e48",
   "metadata": {},
   "source": [
    "# 🎯 Python Conditions\n",
    "\n",
    "Learn how to make decisions in your code – like asking **if it's true**, **else what to do**, and **so on**!"
   ]
  },
  {
   "cell_type": "markdown",
   "id": "588ebdeb",
   "metadata": {},
   "source": [
    "## ✅ 1. Checking `==`, `!=`, `<`, `>`\n",
    "We can check if things are **equal**, **not equal**, **bigger**, or **smaller**. Python tells us `True` or `False`."
   ]
  },
  {
   "cell_type": "code",
   "execution_count": 1,
   "id": "e76a4608",
   "metadata": {},
   "outputs": [
    {
     "name": "stdout",
     "output_type": "stream",
     "text": [
      "True\n",
      "False\n",
      "True\n",
      "True\n"
     ]
    }
   ],
   "source": [
    "x = 2\n",
    "print(x == 2)   # Is x equal to 2?\n",
    "print(x == 3)   # Is x equal to 3?\n",
    "print(x < 3)    # Is x less than 3?\n",
    "print(x != 5)   # Is x NOT equal to 5?"
   ]
  },
  {
   "cell_type": "markdown",
   "id": "c5adfd64",
   "metadata": {},
   "source": [
    "## 🔗 2. Combining Conditions: `and`, `or`\n",
    "Join checks together. Use `and` if **both** must be true, `or` if **any one** is enough."
   ]
  },
  {
   "cell_type": "code",
   "execution_count": 2,
   "id": "1b24e915",
   "metadata": {},
   "outputs": [
    {
     "name": "stdout",
     "output_type": "stream",
     "text": [
      "Your name is John *and* you are 23.\n",
      "Your name is either John or Rick.\n"
     ]
    }
   ],
   "source": [
    "name = \"John\"\n",
    "age = 23\n",
    "\n",
    "if name == \"John\" and age == 23:\n",
    "    print(\"Your name is John *and* you are 23.\")\n",
    "\n",
    "if name == \"John\" or name == \"Rick\":\n",
    "    print(\"Your name is either John or Rick.\")"
   ]
  },
  {
   "cell_type": "markdown",
   "id": "fafec03c",
   "metadata": {},
   "source": [
    "## 🔎 3. Checking Inside Lists: `in`\n",
    "See if something (like a name) is in a list of items."
   ]
  },
  {
   "cell_type": "code",
   "execution_count": 3,
   "id": "4d68c7d5",
   "metadata": {},
   "outputs": [
    {
     "name": "stdout",
     "output_type": "stream",
     "text": [
      "John is your friend!\n"
     ]
    }
   ],
   "source": [
    "name = \"John\"\n",
    "friends = [\"John\", \"Rick\", \"Anne\"]\n",
    "if name in friends:\n",
    "    print(\"John is your friend!\")\n",
    "else:\n",
    "    print(\"John isn't here.\")"
   ]
  },
  {
   "cell_type": "markdown",
   "id": "9470ff5c",
   "metadata": {},
   "source": [
    "## 💡 4. `if`, `elif`, `else`\n",
    "Choose one path when something is true, another if something else is true, or a default otherwise."
   ]
  },
  {
   "cell_type": "code",
   "execution_count": 4,
   "id": "6ecdbced",
   "metadata": {},
   "outputs": [
    {
     "name": "stdout",
     "output_type": "stream",
     "text": [
      "x is 5\n"
     ]
    }
   ],
   "source": [
    "x = 5\n",
    "if x < 3:\n",
    "    print(\"x is less than 3\")\n",
    "elif x == 5:\n",
    "    print(\"x is 5\")\n",
    "else:\n",
    "    print(\"x is something else\")"
   ]
  },
  {
   "cell_type": "markdown",
   "id": "f6b3083f",
   "metadata": {},
   "source": [
    "## 🐍 5. `is` vs `==`\n",
    "- `==` checks **if values match**\n",
    "- `is` checks **if it's the exact same object in memory**"
   ]
  },
  {
   "cell_type": "code",
   "execution_count": 5,
   "id": "675a4e75",
   "metadata": {},
   "outputs": [
    {
     "name": "stdout",
     "output_type": "stream",
     "text": [
      "True\n",
      "False\n"
     ]
    }
   ],
   "source": [
    "x = [1,2,3]\n",
    "y = [1,2,3]\n",
    "print(x == y)   # True because content is same\n",
    "print(x is y)   # False because they're different lists in memory"
   ]
  },
  {
   "cell_type": "markdown",
   "id": "f1ae9b33",
   "metadata": {},
   "source": [
    "## 🔄 6. Flip True/False with `not`\n",
    "Use `not` to reverse things: if it was `True`, now it's `False`!"
   ]
  },
  {
   "cell_type": "code",
   "execution_count": 6,
   "id": "87822499",
   "metadata": {},
   "outputs": [
    {
     "name": "stdout",
     "output_type": "stream",
     "text": [
      "True\n",
      "False\n"
     ]
    }
   ],
   "source": [
    "print(not False)  # becomes True\n",
    "print(not True)   # becomes False"
   ]
  },
  {
   "cell_type": "markdown",
   "id": "fae42ae9",
   "metadata": {},
   "source": [
    "## 🎯 Exercise Time!\n",
    "Change these values so **all `print` statements run** (no errors, all True conditions)."
   ]
  },
  {
   "cell_type": "code",
   "execution_count": null,
   "id": "1bb65ee0",
   "metadata": {},
   "outputs": [],
   "source": [
    "# 💥 Update values below:\n",
    "number = None\n",
    "second_number = None\n",
    "first_array = None\n",
    "second_array = None\n",
    "\n",
    "if number > 15:\n",
    "    print(\"1\")\n",
    "if first_array:\n",
    "    print(\"2\")\n",
    "if len(second_array) == 2:\n",
    "    print(\"3\")\n",
    "if len(first_array) + len(second_array) == 5:\n",
    "    print(\"4\")\n",
    "if first_array and first_array[0] == 1:\n",
    "    print(\"5\")\n",
    "if not second_number:\n",
    "    print(\"6\")"
   ]
  },
  {
   "cell_type": "markdown",
   "id": "2f415182",
   "metadata": {},
   "source": [
    "Once you're done, the code should print:\n",
    "> 1 2 3 4 5 6\n",
    "\n",
    "Play around by changing values to see how the decisions change!"
   ]
  }
 ],
 "metadata": {
  "kernelspec": {
   "display_name": "base",
   "language": "python",
   "name": "python3"
  },
  "language_info": {
   "codemirror_mode": {
    "name": "ipython",
    "version": 3
   },
   "file_extension": ".py",
   "mimetype": "text/x-python",
   "name": "python",
   "nbconvert_exporter": "python",
   "pygments_lexer": "ipython3",
   "version": "3.12.7"
  }
 },
 "nbformat": 4,
 "nbformat_minor": 5
}
