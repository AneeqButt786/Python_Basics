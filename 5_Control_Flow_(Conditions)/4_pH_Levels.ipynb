{
 "cells": [
  {
   "cell_type": "markdown",
   "id": "394ee17c",
   "metadata": {},
   "source": [
    "### **pH_Levels**\n",
    "\n",
    "💡 *Use Case:* Checks water acidity (pH level) and tells you if it’s too acidic or too basic—useful in science experiments.\n"
   ]
  },
  {
   "cell_type": "code",
   "execution_count": 5,
   "id": "5c9c0638",
   "metadata": {},
   "outputs": [
    {
     "name": "stdout",
     "output_type": "stream",
     "text": [
      "ph level 8 is: Basic\n"
     ]
    }
   ],
   "source": [
    "ph = int(input('Enter a pH level (0-14): '))\n",
    "print(f\"ph level {ph} is: \", end=\"\")\n",
    "if ph > 7:\n",
    "  print('Basic')\n",
    "elif ph < 7:\n",
    "  print('Acidic')\n",
    "else:\n",
    "  print('Neutral')"
   ]
  }
 ],
 "metadata": {
  "kernelspec": {
   "display_name": "base",
   "language": "python",
   "name": "python3"
  },
  "language_info": {
   "codemirror_mode": {
    "name": "ipython",
    "version": 3
   },
   "file_extension": ".py",
   "mimetype": "text/x-python",
   "name": "python",
   "nbconvert_exporter": "python",
   "pygments_lexer": "ipython3",
   "version": "3.12.7"
  }
 },
 "nbformat": 4,
 "nbformat_minor": 5
}
