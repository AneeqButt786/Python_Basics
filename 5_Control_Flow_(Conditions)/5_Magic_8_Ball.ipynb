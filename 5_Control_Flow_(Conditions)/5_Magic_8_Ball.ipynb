{
 "cells": [
  {
   "cell_type": "markdown",
   "id": "3ecbcee2",
   "metadata": {},
   "source": [
    "### **Magic_8_Ball**\n",
    "\n",
    "💡 *Use Case:* A fun fortune‑telling toy that gives a random answer to your yes/no question—like a digital Magic 8‑Ball.\n"
   ]
  },
  {
   "cell_type": "code",
   "execution_count": 3,
   "id": "c9a036b0",
   "metadata": {},
   "outputs": [
    {
     "name": "stdout",
     "output_type": "stream",
     "text": [
      "Question: Hi\n",
      "Magic 8 Ball:  Outlook not so good\n"
     ]
    }
   ],
   "source": [
    "import random\n",
    "\n",
    "question = input('Question:      ')\n",
    "print(f\"Question: {question}\")\n",
    "random_number = random.randint(1, 9)\n",
    "\n",
    "if random_number == 1:\n",
    "  answer = 'Yes - definitely'\n",
    "elif random_number == 2:\n",
    "  answer = 'It is decidedly so'\n",
    "elif random_number == 3:\n",
    "  answer = 'Without a doubt'\n",
    "elif random_number == 4:\n",
    "  answer = 'Reply hazy, try again'\n",
    "elif random_number == 5:\n",
    "  answer = 'Ask again later'\n",
    "elif random_number == 6:\n",
    "  answer = 'Better not tell you now'\n",
    "elif random_number == 7:\n",
    "  answer = 'My sources say no'\n",
    "elif random_number == 8:\n",
    "  answer = 'Outlook not so good'\n",
    "elif random_number == 9:\n",
    "  answer = 'Very doubtful'\n",
    "else:\n",
    "  answer = 'Error'\n",
    "  \n",
    "print('Magic 8 Ball:  ' + answer)"
   ]
  }
 ],
 "metadata": {
  "kernelspec": {
   "display_name": "base",
   "language": "python",
   "name": "python3"
  },
  "language_info": {
   "codemirror_mode": {
    "name": "ipython",
    "version": 3
   },
   "file_extension": ".py",
   "mimetype": "text/x-python",
   "name": "python",
   "nbconvert_exporter": "python",
   "pygments_lexer": "ipython3",
   "version": "3.12.7"
  }
 },
 "nbformat": 4,
 "nbformat_minor": 5
}
