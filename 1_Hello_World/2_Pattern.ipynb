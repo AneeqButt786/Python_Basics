{
 "cells": [
  {
   "cell_type": "markdown",
   "id": "1d3a4ffe",
   "metadata": {},
   "source": [
    "You can write print() on the next line to add new line in terminal like this:\n"
   ]
  },
  {
   "cell_type": "code",
   "execution_count": 1,
   "id": "9fcb7948",
   "metadata": {},
   "outputs": [
    {
     "name": "stdout",
     "output_type": "stream",
     "text": [
      "       1\n",
      "     2 3\n",
      "   4 5 6\n",
      "7 8 9 10\n"
     ]
    }
   ],
   "source": [
    "print('       1')\n",
    "print('     2 3')\n",
    "print('   4 5 6')\n",
    "print('7 8 9 10')\n"
   ]
  },
  {
   "cell_type": "markdown",
   "id": "158d3244",
   "metadata": {},
   "source": [
    "You can also use triple quotes either single or double to prevent multiple print(). \n"
   ]
  },
  {
   "cell_type": "code",
   "execution_count": 20,
   "id": "b08ccbae",
   "metadata": {},
   "outputs": [
    {
     "name": "stdout",
     "output_type": "stream",
     "text": [
      "\n",
      "       1\n",
      "     2 3\n",
      "   4 5 6 \n",
      "7 8 9 10\n"
     ]
    }
   ],
   "source": [
    "print(\"\"\"\n",
    "       1\n",
    "     2 3\n",
    "   4 5 6 \n",
    "7 8 9 10\"\"\")"
   ]
  }
 ],
 "metadata": {
  "kernelspec": {
   "display_name": "base",
   "language": "python",
   "name": "python3"
  },
  "language_info": {
   "codemirror_mode": {
    "name": "ipython",
    "version": 3
   },
   "file_extension": ".py",
   "mimetype": "text/x-python",
   "name": "python",
   "nbconvert_exporter": "python",
   "pygments_lexer": "ipython3",
   "version": "3.12.7"
  }
 },
 "nbformat": 4,
 "nbformat_minor": 5
}
