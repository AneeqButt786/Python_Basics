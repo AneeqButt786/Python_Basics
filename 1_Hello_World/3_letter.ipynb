{
 "cells": [
  {
   "cell_type": "markdown",
   "id": "ca1bb5a4",
   "metadata": {},
   "source": [
    "Snail Mail 💌"
   ]
  },
  {
   "cell_type": "code",
   "execution_count": 7,
   "id": "b89d2269",
   "metadata": {},
   "outputs": [
    {
     "name": "stdout",
     "output_type": "stream",
     "text": [
      "+---------------------------------------------------------------------+\n",
      "|                                                          June 2025  |\n",
      "|                                                       Brooklyn, NY  |\n",
      "|  Dear Self,                                                         |\n",
      "|                                                                     |\n",
      "|      Build the learn to code platform that you always dreamed of.   |\n",
      "|      Give more than you take.                                       |\n",
      "|      Care > capital.                                                |\n",
      "|      Five-second funerals for all the Ls.                           |\n",
      "|      And always get back up.                                        |\n",
      "|                                                                     |\n",
      "|                                              Aneeq But 🤠           |\n",
      "|                                                                     |\n",
      "+---------------------------------------------------------------------+\n"
     ]
    }
   ],
   "source": [
    "print('+---------------------------------------------------------------------+')\n",
    "print('|                                                          June 2025  |')\n",
    "print('|                                                       Brooklyn, NY  |')\n",
    "print('|  Dear Self,                                                         |')\n",
    "print('|                                                                     |')\n",
    "print('|      Build the learn to code platform that you always dreamed of.   |')\n",
    "print('|      Give more than you take.                                       |')\n",
    "print('|      Care > capital.                                                |')\n",
    "print('|      Five-second funerals for all the Ls.                           |')\n",
    "print('|      And always get back up.                                        |')\n",
    "print('|                                                                     |')\n",
    "print('|                                              Aneeq But 🤠           |')\n",
    "print('|                                                                     |')\n",
    "print('+---------------------------------------------------------------------+')"
   ]
  }
 ],
 "metadata": {
  "kernelspec": {
   "display_name": "base",
   "language": "python",
   "name": "python3"
  },
  "language_info": {
   "codemirror_mode": {
    "name": "ipython",
    "version": 3
   },
   "file_extension": ".py",
   "mimetype": "text/x-python",
   "name": "python",
   "nbconvert_exporter": "python",
   "pygments_lexer": "ipython3",
   "version": "3.12.7"
  }
 },
 "nbformat": 4,
 "nbformat_minor": 5
}
