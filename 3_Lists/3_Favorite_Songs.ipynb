{
 "cells": [
  {
   "cell_type": "markdown",
   "id": "153758c9",
   "metadata": {},
   "source": [
    "### Here is a mini project for your practice.\n",
    "\n",
    "### Make a Songs list for your favorite songs.\n"
   ]
  },
  {
   "cell_type": "code",
   "execution_count": 1,
   "id": "d2be1ecc",
   "metadata": {},
   "outputs": [
    {
     "name": "stdout",
     "output_type": "stream",
     "text": [
      "Top 3 songs: ['Song A', 'Song B', 'Song C']\n",
      "Last song: Song E\n"
     ]
    }
   ],
   "source": [
    "songs = [\"Song A\", \"Song B\", \"Song C\", \"Song D\", \"Song E\"]\n",
    "print(\"Top 3 songs:\", songs[:3])\n",
    "print(\"Last song:\", songs[-1])\n"
   ]
  }
 ],
 "metadata": {
  "kernelspec": {
   "display_name": "base",
   "language": "python",
   "name": "python3"
  },
  "language_info": {
   "codemirror_mode": {
    "name": "ipython",
    "version": 3
   },
   "file_extension": ".py",
   "mimetype": "text/x-python",
   "name": "python",
   "nbconvert_exporter": "python",
   "pygments_lexer": "ipython3",
   "version": "3.12.7"
  }
 },
 "nbformat": 4,
 "nbformat_minor": 5
}
