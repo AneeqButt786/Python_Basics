{
 "cells": [
  {
   "cell_type": "markdown",
   "id": "64d91c0c",
   "metadata": {},
   "source": [
    "### Here is a mini project for your practice.\n",
    "\n",
    "### Make a Songs list for your favorite songs."
   ]
  },
  {
   "cell_type": "code",
   "execution_count": 1,
   "id": "c1c4a46b",
   "metadata": {},
   "outputs": [
    {
     "name": "stdout",
     "output_type": "stream",
     "text": [
      "🏦 Get quarters.\n",
      "🧺 Do laundry.\n",
      "['🌳 Take a walk.', '💈 Get a haircut.', '🍵 Make some tea.']\n"
     ]
    }
   ],
   "source": [
    "todo = ['🏦 Get quarters.', \n",
    "        '🧺 Do laundry.',\n",
    "        '🌳 Take a walk.',\n",
    "        '💈 Get a haircut.',\n",
    "        '🍵 Make some tea.',\n",
    "        '💻 Complete Lists chapter.',\n",
    "        '💖 Call mom.',\n",
    "        '📺 Watch My Hero Academia.']\n",
    "\n",
    "print(todo[0])\n",
    "print(todo[1])\n",
    "print(todo[2 : 5])\n"
   ]
  }
 ],
 "metadata": {
  "kernelspec": {
   "display_name": "base",
   "language": "python",
   "name": "python3"
  },
  "language_info": {
   "codemirror_mode": {
    "name": "ipython",
    "version": 3
   },
   "file_extension": ".py",
   "mimetype": "text/x-python",
   "name": "python",
   "nbconvert_exporter": "python",
   "pygments_lexer": "ipython3",
   "version": "3.12.7"
  }
 },
 "nbformat": 4,
 "nbformat_minor": 5
}
