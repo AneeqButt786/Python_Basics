{
 "cells": [
  {
   "cell_type": "markdown",
   "id": "f8181ef3",
   "metadata": {},
   "source": [
    "### Here is a mini project for your practice.\n",
    "\n",
    "### Make a grocery list for your grocery management.\n"
   ]
  },
  {
   "cell_type": "code",
   "execution_count": 1,
   "id": "b11f8922",
   "metadata": {},
   "outputs": [
    {
     "name": "stdout",
     "output_type": "stream",
     "text": [
      "['milk', 'eggs', 'apples']\n",
      "First item: milk\n"
     ]
    }
   ],
   "source": [
    "grocery_list = [\"milk\", \"bread\", \"eggs\"]\n",
    "grocery_list.append(\"apples\")\n",
    "grocery_list.remove(\"bread\")\n",
    "print(grocery_list)\n",
    "print(\"First item:\", grocery_list[0])\n"
   ]
  }
 ],
 "metadata": {
  "kernelspec": {
   "display_name": "base",
   "language": "python",
   "name": "python3"
  },
  "language_info": {
   "codemirror_mode": {
    "name": "ipython",
    "version": 3
   },
   "file_extension": ".py",
   "mimetype": "text/x-python",
   "name": "python",
   "nbconvert_exporter": "python",
   "pygments_lexer": "ipython3",
   "version": "3.12.7"
  }
 },
 "nbformat": 4,
 "nbformat_minor": 5
}
