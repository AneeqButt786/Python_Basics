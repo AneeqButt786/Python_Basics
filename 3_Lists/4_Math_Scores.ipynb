{
 "cells": [
  {
   "cell_type": "markdown",
   "id": "68786695",
   "metadata": {},
   "source": [
    "### Here is a mini project for your practice.\n",
    "\n",
    "### Make a Songs list for your favorite songs.\n"
   ]
  },
  {
   "cell_type": "code",
   "execution_count": 1,
   "id": "11d11034",
   "metadata": {},
   "outputs": [
    {
     "name": "stdout",
     "output_type": "stream",
     "text": [
      "Average score: 86.25\n"
     ]
    }
   ],
   "source": [
    "scores = [85, 90, 78, 92]\n",
    "average = (scores[0] + scores[1] + scores[2] + scores[3]) / 4\n",
    "print(\"Average score:\", average)\n"
   ]
  }
 ],
 "metadata": {
  "kernelspec": {
   "display_name": "base",
   "language": "python",
   "name": "python3"
  },
  "language_info": {
   "codemirror_mode": {
    "name": "ipython",
    "version": 3
   },
   "file_extension": ".py",
   "mimetype": "text/x-python",
   "name": "python",
   "nbconvert_exporter": "python",
   "pygments_lexer": "ipython3",
   "version": "3.12.7"
  }
 },
 "nbformat": 4,
 "nbformat_minor": 5
}
